{
 "cells": [
  {
   "cell_type": "markdown",
   "id": "ac60394f",
   "metadata": {
    "id": "ac60394f"
   },
   "source": [
    "# Estruturas de repetição\n",
    "\n",
    "<span style=\"color: red;\"><b>Todos os exercícios são feitos partindo-se do pressuposto de que todas as entradas são dadas de forma correta. Casos limite não mencionados no enunciado não são abordados porque não fazem parte do exercício.</b></span>"
   ]
  },
  {
   "cell_type": "markdown",
   "id": "017affd0",
   "metadata": {
    "id": "017affd0"
   },
   "source": [
    "#### 1. Faça um programa que peça uma nota, entre zero e dez. Mostre uma mensagem caso o valor seja inválido e continue pedindo até que o usuário informe um valor válido."
   ]
  },
  {
   "cell_type": "code",
   "execution_count": 62,
   "id": "5f12870d",
   "metadata": {
    "ExecuteTime": {
     "end_time": "2024-02-11T12:11:44.229715Z",
     "start_time": "2024-02-11T12:11:36.797815Z"
    },
    "id": "5f12870d"
   },
   "outputs": [
    {
     "ename": "KeyboardInterrupt",
     "evalue": "Interrupted by user",
     "output_type": "error",
     "traceback": [
      "\u001b[1;31m---------------------------------------------------------------------------\u001b[0m",
      "\u001b[1;31mKeyboardInterrupt\u001b[0m                         Traceback (most recent call last)",
      "Cell \u001b[1;32mIn[62], line 2\u001b[0m\n\u001b[0;32m      1\u001b[0m \u001b[38;5;28;01mwhile\u001b[39;00m \u001b[38;5;28;01mTrue\u001b[39;00m:\n\u001b[1;32m----> 2\u001b[0m     nota \u001b[38;5;241m=\u001b[39m \u001b[38;5;28mfloat\u001b[39m(\u001b[38;5;28;43minput\u001b[39;49m\u001b[43m(\u001b[49m\u001b[38;5;124;43m'\u001b[39;49m\u001b[38;5;124;43mInforme a nota do aluno:\u001b[39;49m\u001b[38;5;124;43m'\u001b[39;49m\u001b[43m)\u001b[49m)\n\u001b[0;32m      3\u001b[0m     \u001b[38;5;28;01mif\u001b[39;00m \u001b[38;5;241m0\u001b[39m \u001b[38;5;241m<\u001b[39m\u001b[38;5;241m=\u001b[39m nota \u001b[38;5;241m<\u001b[39m\u001b[38;5;241m=\u001b[39m \u001b[38;5;241m10\u001b[39m:\n\u001b[0;32m      4\u001b[0m         \u001b[38;5;28mprint\u001b[39m(\u001b[38;5;124mf\u001b[39m\u001b[38;5;124m'\u001b[39m\u001b[38;5;124mA nota do aluno foi \u001b[39m\u001b[38;5;132;01m{\u001b[39;00mnota\u001b[38;5;132;01m}\u001b[39;00m\u001b[38;5;124m.\u001b[39m\u001b[38;5;124m'\u001b[39m)\n",
      "File \u001b[1;32m~\\anaconda3\\lib\\site-packages\\ipykernel\\kernelbase.py:1202\u001b[0m, in \u001b[0;36mKernel.raw_input\u001b[1;34m(self, prompt)\u001b[0m\n\u001b[0;32m   1200\u001b[0m     msg \u001b[38;5;241m=\u001b[39m \u001b[38;5;124m\"\u001b[39m\u001b[38;5;124mraw_input was called, but this frontend does not support input requests.\u001b[39m\u001b[38;5;124m\"\u001b[39m\n\u001b[0;32m   1201\u001b[0m     \u001b[38;5;28;01mraise\u001b[39;00m StdinNotImplementedError(msg)\n\u001b[1;32m-> 1202\u001b[0m \u001b[38;5;28;01mreturn\u001b[39;00m \u001b[38;5;28;43mself\u001b[39;49m\u001b[38;5;241;43m.\u001b[39;49m\u001b[43m_input_request\u001b[49m\u001b[43m(\u001b[49m\n\u001b[0;32m   1203\u001b[0m \u001b[43m    \u001b[49m\u001b[38;5;28;43mstr\u001b[39;49m\u001b[43m(\u001b[49m\u001b[43mprompt\u001b[49m\u001b[43m)\u001b[49m\u001b[43m,\u001b[49m\n\u001b[0;32m   1204\u001b[0m \u001b[43m    \u001b[49m\u001b[38;5;28;43mself\u001b[39;49m\u001b[38;5;241;43m.\u001b[39;49m\u001b[43m_parent_ident\u001b[49m\u001b[43m[\u001b[49m\u001b[38;5;124;43m\"\u001b[39;49m\u001b[38;5;124;43mshell\u001b[39;49m\u001b[38;5;124;43m\"\u001b[39;49m\u001b[43m]\u001b[49m\u001b[43m,\u001b[49m\n\u001b[0;32m   1205\u001b[0m \u001b[43m    \u001b[49m\u001b[38;5;28;43mself\u001b[39;49m\u001b[38;5;241;43m.\u001b[39;49m\u001b[43mget_parent\u001b[49m\u001b[43m(\u001b[49m\u001b[38;5;124;43m\"\u001b[39;49m\u001b[38;5;124;43mshell\u001b[39;49m\u001b[38;5;124;43m\"\u001b[39;49m\u001b[43m)\u001b[49m\u001b[43m,\u001b[49m\n\u001b[0;32m   1206\u001b[0m \u001b[43m    \u001b[49m\u001b[43mpassword\u001b[49m\u001b[38;5;241;43m=\u001b[39;49m\u001b[38;5;28;43;01mFalse\u001b[39;49;00m\u001b[43m,\u001b[49m\n\u001b[0;32m   1207\u001b[0m \u001b[43m\u001b[49m\u001b[43m)\u001b[49m\n",
      "File \u001b[1;32m~\\anaconda3\\lib\\site-packages\\ipykernel\\kernelbase.py:1245\u001b[0m, in \u001b[0;36mKernel._input_request\u001b[1;34m(self, prompt, ident, parent, password)\u001b[0m\n\u001b[0;32m   1242\u001b[0m \u001b[38;5;28;01mexcept\u001b[39;00m \u001b[38;5;167;01mKeyboardInterrupt\u001b[39;00m:\n\u001b[0;32m   1243\u001b[0m     \u001b[38;5;66;03m# re-raise KeyboardInterrupt, to truncate traceback\u001b[39;00m\n\u001b[0;32m   1244\u001b[0m     msg \u001b[38;5;241m=\u001b[39m \u001b[38;5;124m\"\u001b[39m\u001b[38;5;124mInterrupted by user\u001b[39m\u001b[38;5;124m\"\u001b[39m\n\u001b[1;32m-> 1245\u001b[0m     \u001b[38;5;28;01mraise\u001b[39;00m \u001b[38;5;167;01mKeyboardInterrupt\u001b[39;00m(msg) \u001b[38;5;28;01mfrom\u001b[39;00m \u001b[38;5;28;01mNone\u001b[39;00m\n\u001b[0;32m   1246\u001b[0m \u001b[38;5;28;01mexcept\u001b[39;00m \u001b[38;5;167;01mException\u001b[39;00m:\n\u001b[0;32m   1247\u001b[0m     \u001b[38;5;28mself\u001b[39m\u001b[38;5;241m.\u001b[39mlog\u001b[38;5;241m.\u001b[39mwarning(\u001b[38;5;124m\"\u001b[39m\u001b[38;5;124mInvalid Message:\u001b[39m\u001b[38;5;124m\"\u001b[39m, exc_info\u001b[38;5;241m=\u001b[39m\u001b[38;5;28;01mTrue\u001b[39;00m)\n",
      "\u001b[1;31mKeyboardInterrupt\u001b[0m: Interrupted by user"
     ]
    }
   ],
   "source": [
    "while True:\n",
    "    nota = float(input('Informe a nota do aluno:'))\n",
    "    if 0 <= nota <= 10:\n",
    "        print(f'A nota do aluno foi {nota}.')\n",
    "        break\n",
    "    else:\n",
    "        print('Informe uma nota válida')"
   ]
  },
  {
   "cell_type": "markdown",
   "id": "dd0c6d56",
   "metadata": {
    "id": "dd0c6d56"
   },
   "source": [
    "#### 2. Faça um programa que leia um nome de usuário e a sua senha e não aceite a senha igual ao nome do usuário, mostrando uma mensagem de erro e voltando a pedir as informações."
   ]
  },
  {
   "cell_type": "code",
   "execution_count": null,
   "id": "f6579866",
   "metadata": {
    "ExecuteTime": {
     "end_time": "2024-02-11T12:11:44.232581Z",
     "start_time": "2024-02-11T12:11:44.232581Z"
    },
    "id": "f6579866"
   },
   "outputs": [],
   "source": [
    "while True:\n",
    "    usuario = input('Informe o id do usuario:')\n",
    "    senha = input('Informe a senha:')\n",
    "    if usuario == senha:\n",
    "        print(f'A senha não pode ser igual ao id do usuario. ')\n",
    "    else:\n",
    "        print(f'O id do usuario é {usuario} e a senha escolhida foi {senha}.')\n",
    "        break"
   ]
  },
  {
   "cell_type": "markdown",
   "id": "ed113a82",
   "metadata": {
    "id": "ed113a82"
   },
   "source": [
    "#### 3. Faça um programa que leia e valide as seguintes informações (e para cada uma delas, continue pedindo a informação até o usuário inserir corretamente):\n",
    "##### Nome: maior que 3 caracteres;\n",
    "##### Idade: entre 0 e 150;\n",
    "##### Salário: maior que zero;\n",
    "##### Sexo: 'f' ou 'm';\n",
    "##### Estado Civil: 's', 'c', 'v', 'd';"
   ]
  },
  {
   "cell_type": "code",
   "execution_count": null,
   "id": "3284f187",
   "metadata": {
    "ExecuteTime": {
     "end_time": "2024-02-11T12:11:44.234186Z",
     "start_time": "2024-02-11T12:11:44.234186Z"
    },
    "id": "3284f187",
    "scrolled": true
   },
   "outputs": [],
   "source": [
    "info = []\n",
    "\n",
    "nome = input('Informe o nome (maior que 3 caracteres):')\n",
    "while len(nome) < 4:\n",
    "    print('Insira um nome válido!')\n",
    "    nome = input('Informe o nome (maior que 3 caracteres):')\n",
    "\n",
    "idade = int(input('Informe a idade (entre 0 e 150 anos):'))\n",
    "while  not 0 <= idade <= 150:\n",
    "    print('Insira uma idade válida!')\n",
    "    idade = int(input('Informe a idade (entre 0 e 150 anos):'))\n",
    "\n",
    "salario = float(input('Informe o salário (valor maior que zero):'))\n",
    "while not salario > 0:\n",
    "    print('Insira um nome válido!')\n",
    "    salario = float(input('Informe o salário (valor maior que zero):'))\n",
    "\n",
    "genero = input('Informe o sexo ( f ou m):')\n",
    "while not genero in ['f', 'm']:\n",
    "    print('Insira um genero válido!')\n",
    "    genero = input('Informe o sexo ( f ou m):')\n",
    "\n",
    "est_civil = input('Informe o estado civil (s, c, v, d)):')\n",
    "while not est_civil in ['s', 'c', 'v', 'd']:\n",
    "    print('Insira um estado civil válido!')\n",
    "    est_civil = input('Informe o estado civil (s, c, v, d)):')\n",
    "\n",
    "info.append([nome, idade, salario, genero, est_civil])\n",
    "print(info)\n"
   ]
  },
  {
   "cell_type": "markdown",
   "id": "2f25dceb",
   "metadata": {
    "id": "2f25dceb"
   },
   "source": [
    "#### 4. Supondo que a população de um país A seja da ordem de 80000 habitantes com uma taxa anual de crescimento de 3% e que a população de B seja 200000 habitantes com uma taxa de crescimento de 1.5%. Faça um programa que calcule e escreva o número de anos necessários para que a população do país A ultrapasse ou iguale a população do país B, mantidas as taxas de crescimento."
   ]
  },
  {
   "cell_type": "code",
   "execution_count": null,
   "id": "7ad0f5e9",
   "metadata": {
    "ExecuteTime": {
     "end_time": "2024-02-11T12:11:44.235759Z",
     "start_time": "2024-02-11T12:11:44.235759Z"
    },
    "id": "7ad0f5e9"
   },
   "outputs": [],
   "source": [
    "ano = 0\n",
    "pop_A = 80000 \n",
    "tx_cresc_A = 0.03\n",
    "pop_B = 200000\n",
    "tx_cresc_B = 0.015\n",
    "\n",
    "while pop_B > pop_A:\n",
    "    pop_A = pop_A*(1 + tx_cresc_A) \n",
    "    pop_B = pop_B*(1 + tx_cresc_B)\n",
    "    ano += 1\n",
    "    \n",
    "print(f'Para que a população de A seja maior ou igual que a população de B, serão necessários {ano} anos.')"
   ]
  },
  {
   "cell_type": "markdown",
   "id": "e9626858",
   "metadata": {
    "id": "e9626858"
   },
   "source": [
    "#### 5. Altere o programa anterior permitindo ao usuário informar as populações e as taxas de crescimento iniciais. Valide a entrada e permita repetir a operação."
   ]
  },
  {
   "cell_type": "code",
   "execution_count": null,
   "id": "c7e250a4",
   "metadata": {
    "ExecuteTime": {
     "end_time": "2024-02-11T12:11:44.237753Z",
     "start_time": "2024-02-11T12:11:44.237753Z"
    },
    "id": "c7e250a4"
   },
   "outputs": [],
   "source": [
    "ano = 0\n",
    "pop_A = int(input('Informe a população do país A:')) \n",
    "tx_cresc_A = float(input('Informe a taxa (%) de crescimento do país A'))\n",
    "tx_cresc_A = tx_cresc_A/100\n",
    "pop_B = int(input('Informe a população do país B:')) \n",
    "tx_cresc_B = float(input('Informe a taxa (%) de crescimento do país B'))\n",
    "tx_cresc_B = tx_cresc_B/100\n",
    "\n",
    "if pop_B > pop_A:\n",
    "    while pop_B > pop_A:\n",
    "        pop_A = pop_A*(1 + tx_cresc_A) \n",
    "        pop_B = pop_B*(1 + tx_cresc_B)\n",
    "        ano += 1\n",
    "else:\n",
    "    while pop_A > pop_B:\n",
    "        pop_A = pop_A*(1 + tx_cresc_A) \n",
    "        pop_B = pop_B*(1 + tx_cresc_B)\n",
    "        ano += 1\n",
    "print(f'Para que a população de A seja maior ou igual que a população de B, serão necessários {ano} anos.')"
   ]
  },
  {
   "cell_type": "markdown",
   "id": "b3d268b5",
   "metadata": {
    "id": "b3d268b5"
   },
   "source": [
    "#### 6. Faça um programa que peça para o usuário inserir o faturamento dos últimos 5 meses (individualmente) e informe o maior faturamento"
   ]
  },
  {
   "cell_type": "code",
   "execution_count": null,
   "id": "8078e7a5",
   "metadata": {
    "ExecuteTime": {
     "end_time": "2024-02-11T12:11:44.239398Z",
     "start_time": "2024-02-11T12:11:44.239398Z"
    },
    "id": "8078e7a5"
   },
   "outputs": [],
   "source": [
    "lista_fat = []\n",
    "\n",
    "while len(lista_fat) < 5:\n",
    "    lista_fat.append(faturamento)\n",
    "    faturamento = float(input('Informa o faturamento do mes:'))\n",
    "\n",
    "print(f'O maior faturamento foi de {max(lista_fat)}.')"
   ]
  },
  {
   "cell_type": "markdown",
   "id": "6407824c",
   "metadata": {
    "id": "6407824c"
   },
   "source": [
    "#### 7. Faça um programa que peça para o usuário inserir o faturamento dos últimos 5 meses (individualmente) e informe o faturamento total (soma) e o faturamento médio por mês (média)."
   ]
  },
  {
   "cell_type": "code",
   "execution_count": null,
   "id": "a02320d1",
   "metadata": {
    "ExecuteTime": {
     "end_time": "2024-02-11T12:11:44.240976Z",
     "start_time": "2024-02-11T12:11:44.240976Z"
    },
    "id": "a02320d1"
   },
   "outputs": [],
   "source": [
    "lista_fat = []\n",
    "\n",
    "while len(lista_fat) < 5:\n",
    "    lista_fat.append(faturamento)\n",
    "    faturamento = float(input('Informa o faturamento do mes:'))\n",
    "\n",
    "print(f'O faturamento dos últimos 5 meses foi {lista_fat}.')\n",
    "print(f'O maior faturamento foi de {max(lista_fat)}.')\n",
    "print(f'O faturamento total foi de {sum(lista_fat)}.')\n",
    "print(f'O faturamento médio foi de {sum(lista_fat)/len(lista_fat)}.')"
   ]
  },
  {
   "cell_type": "markdown",
   "id": "703f3c4d",
   "metadata": {
    "id": "703f3c4d"
   },
   "source": [
    "#### 8. Faça um programa que consiga categorizar a idade das equipes de uma empresa. Faça um programa que peça para n pessoas a sua idade, ao final o programa devera verificar se a média de idade da equipe varia entre 0 e 25 (jovem) ,26 e 60 (sênior) e maior que 60 (idosa); e então, dizer se a equipe é jovem, sênior ou idosa, conforme a média calculada."
   ]
  },
  {
   "cell_type": "code",
   "execution_count": null,
   "id": "b56a85de",
   "metadata": {
    "ExecuteTime": {
     "end_time": "2024-02-11T12:11:44.242008Z",
     "start_time": "2024-02-11T12:11:44.242008Z"
    },
    "id": "b56a85de"
   },
   "outputs": [],
   "source": [
    "lista_idade = []\n",
    "\n",
    "while True:\n",
    "    idade = float(input('Informe a idade do colaborador, para sair digite -1:'))\n",
    "    if idade == -1:\n",
    "        break\n",
    "    lista_idade.append(idade)\n",
    "    \n",
    "print(f'A lista de idade cadastrada foi {lista_idade}.')\n",
    "\n",
    "media = sum(lista_idade) / len(lista_idade)\n",
    "\n",
    "if 0 <= media <=25:\n",
    "    print(f'A média de idade {media} está classificada como JOVEM.')\n",
    "elif 26 <= media <60:\n",
    "    print(f'A média de idade {media} está classificada como SÊNIOR.')\n",
    "elif media > 60:\n",
    "    print(f'A média de idade {media} está classificada como IDOSA.')\n"
   ]
  },
  {
   "cell_type": "markdown",
   "id": "aad21b98",
   "metadata": {
    "id": "aad21b98"
   },
   "source": [
    "#### 9. Numa eleição existem três candidatos. Faça um programa que peça o número total de eleitores. Peça para cada eleitor votar e ao final mostrar o número de votos de cada candidato."
   ]
  },
  {
   "cell_type": "code",
   "execution_count": null,
   "id": "84aa7a93",
   "metadata": {
    "ExecuteTime": {
     "end_time": "2024-02-11T12:11:44.243602Z",
     "start_time": "2024-02-11T12:11:44.243602Z"
    },
    "id": "84aa7a93",
    "scrolled": true
   },
   "outputs": [],
   "source": [
    "total_eleitores = int(input('Informe o número total de eleitores:'))\n",
    "\n",
    "candidato_A = 0\n",
    "candidato_B = 0\n",
    "candidato_C = 0\n",
    "\n",
    "i = 0\n",
    "\n",
    "while i < total_eleitores:\n",
    "    voto = input('Digite seu voto (A, B ou C):')\n",
    "    if voto == 'A':\n",
    "        candidato_A += 1\n",
    "    elif  voto == 'B':\n",
    "        candidato_B += 1\n",
    "    elif  voto == 'C':\n",
    "        candidato_C += 1\n",
    "    i += 1\n",
    "print(f'O candidato A teve {candidato_A} votos, o candidato B teve {candidato_B} e o o candidato C teve {candidato_C}.')"
   ]
  },
  {
   "cell_type": "markdown",
   "id": "6e306453",
   "metadata": {
    "id": "6e306453"
   },
   "source": [
    "#### 10. Faça um programa que calcule o valor total investido por um colecionador em sua coleção de CDs e o valor médio gasto em cada um deles. O usuário deverá informar a quantidade de CDs e o valor para em cada um."
   ]
  },
  {
   "cell_type": "code",
   "execution_count": null,
   "id": "6b7fa4a2",
   "metadata": {
    "ExecuteTime": {
     "end_time": "2024-02-11T12:11:44.246307Z",
     "start_time": "2024-02-11T12:11:44.246307Z"
    },
    "id": "6b7fa4a2"
   },
   "outputs": [],
   "source": [
    "qtd_cds = int(input('Digite a quantidade de cds:'))\n",
    "\n",
    "lista_valor = []\n",
    "\n",
    "for i in range(0, qtd_cds):\n",
    "    valor = float(input(f'Digite o valor do {i+1} cd:'))\n",
    "    lista_valor.append(valor)\n",
    "    print(f'O Valor do {i+1} cd foi R$ {valor}.')\n",
    "\n",
    "media = sum(lista_valor) / qtd_cds\n",
    "print(f'O total de cds comprados foi de {qtd_cds} unidades.')\n",
    "print(f'A média de preço foi de R$ {media}.')"
   ]
  },
  {
   "cell_type": "markdown",
   "id": "f19c8d86",
   "metadata": {
    "id": "f19c8d86"
   },
   "source": [
    "#### 11. O Sr. Manoel Joaquim possui uma grande loja de artigos de R\\\\$ 1,99, com cerca de 10 caixas. Para agilizar o cálculo de quanto cada cliente deve pagar ele desenvolveu um tabela que contém o número de itens que o cliente comprou e ao lado o valor da conta. Desta forma a atendente do caixa precisa apenas contar quantos itens o cliente está levando e olhar na tabela de preços. Você foi contratado para desenvolver o programa que monta esta tabela de preços, que conterá os preços de 1 até 50 produtos, conforme o exemplo abaixo:\n",
    "<pre>\n",
    "Lojas Quase Dois - Tabela de preços\n",
    "1 - R$ 1.99\n",
    "2 - R$ 3.98\n",
    "...\n",
    "50 - R$ 99.50\n",
    "</pre>"
   ]
  },
  {
   "cell_type": "code",
   "execution_count": null,
   "id": "4fc4d54d",
   "metadata": {
    "ExecuteTime": {
     "end_time": "2024-02-11T12:11:44.247492Z",
     "start_time": "2024-02-11T12:11:44.247492Z"
    },
    "id": "4fc4d54d"
   },
   "outputs": [],
   "source": [
    "print('Loja Quase Dois - Tabela de Preços')\n",
    "\n",
    "for i in range(50):\n",
    "    print(f'{i+1} - R$ {1.99 *(i+1):.2f}.')"
   ]
  },
  {
   "cell_type": "markdown",
   "id": "6cd19c52",
   "metadata": {
    "id": "6cd19c52"
   },
   "source": [
    "#### 12. Um funcionário de uma empresa recebe aumento salarial anualmente: Sabe-se que:\n",
    "<pre>\n",
    "Esse funcionário foi contratado em 1995, com salário inicial de R$ 1.000,00;\n",
    "Em 1996 recebeu aumento de 1,5% sobre seu salário inicial;\n",
    "A partir de 1997 (inclusive), os aumentos salariais sempre correspondem ao dobro do percentual do ano anterior. Faça um programa que determine o salário desse funcionário em 2003. \n",
    "</pre>"
   ]
  },
  {
   "cell_type": "code",
   "execution_count": null,
   "id": "98a4811b",
   "metadata": {
    "ExecuteTime": {
     "end_time": "2024-02-11T12:11:44.249638Z",
     "start_time": "2024-02-11T12:11:44.249638Z"
    },
    "id": "98a4811b"
   },
   "outputs": [],
   "source": [
    "correcao = (1.5/100)\n",
    "salario = 1000 * (1+correcao)\n",
    "\n",
    "for i in range(1997, 2004):\n",
    "    print(f'Ano = {i}')\n",
    "    correcao = 2*correcao # ou correcao *= 2\n",
    "    print(f'Correção de {(correcao)*100}%.')\n",
    "    salario = salario*(1+correcao)\n",
    "    print(f'O salario em {i} foi de R$ {salario:.2f}.')\n"
   ]
  },
  {
   "cell_type": "markdown",
   "id": "227928d1",
   "metadata": {
    "id": "227928d1"
   },
   "source": [
    "#### 13. O cardápio de uma lanchonete é o seguinte:\n",
    "<pre>\n",
    "Especificação   Código  Preço\n",
    "Cachorro Quente 100     R$ 1,20\n",
    "Bauru Simples   101     R$ 1,30\n",
    "Bauru com ovo   102     R$ 1,50\n",
    "Hambúrguer      103     R$ 1,20\n",
    "Cheeseburguer   104     R$ 1,30\n",
    "Refrigerante    105     R$ 1,00\n",
    "Faça um programa que leia o código dos itens pedidos e as quantidades desejadas. Calcule e mostre o valor a ser pago por item (preço * quantidade) e o total geral do pedido. Considere que o cliente deve informar quando o pedido deve ser encerrado.\n",
    "</pre>"
   ]
  },
  {
   "cell_type": "code",
   "execution_count": 73,
   "id": "8a784b86",
   "metadata": {
    "ExecuteTime": {
     "end_time": "2024-02-11T12:40:00.136649Z",
     "start_time": "2024-02-11T12:39:43.929240Z"
    },
    "id": "8a784b86"
   },
   "outputs": [
    {
     "name": "stdout",
     "output_type": "stream",
     "text": [
      "Informe o produto (para interromper digite 0):101\n",
      "Informe a quantidade de cada produto:1\n",
      "Informe o produto (para interromper digite 0):103\n",
      "Informe a quantidade de cada produto:4\n",
      "Informe o produto (para interromper digite 0):104\n",
      "Informe a quantidade de cada produto:2\n",
      "Informe o produto (para interromper digite 0):105\n",
      "Informe a quantidade de cada produto:7\n",
      "Informe o produto (para interromper digite 0):0\n",
      "Cachorro Quente  -  1 und  -  R$1.20\n",
      "Bauru Simples  -  4 und -  R$5.20\n",
      "Bauru com ovo  -  2 und - R$3.00\n",
      "Hambúrguer  -  7 und -  R$8.40\n",
      "VALOR TOTAL = 17.80\n"
     ]
    }
   ],
   "source": [
    "especificacao = ['Cachorro Quente', 'Bauru Simples', 'Bauru com ovo', 'Hambúrguer', 'Cheeseburguer', 'Refrigerante']\n",
    "codigo = [100, 101, 102, 103, 104, 105]\n",
    "valor_unitario = [1.20 , 1.30 , 1.50 , 1.20 , 1.30 , 1.00]\n",
    "lista_item = []\n",
    "qtds_item = []\n",
    "valor_total_item = []\n",
    "\n",
    "while True:\n",
    "    cod_item = int(input('Informe o produto (para interromper digite 0):'))\n",
    "    if cod_item == 0:\n",
    "        break\n",
    "    quantidade = int(input('Informe a quantidade de cada produto:'))\n",
    "    lista_item.append(cod_item)\n",
    "    qtds_item.append(quantidade)\n",
    "\n",
    "for i, item in enumerate(lista_item):\n",
    "    if item == 100:\n",
    "        valor_total_un = qtds_item[i] * valor_unitario[i]\n",
    "        valor_total_item.append(valor_total_un)\n",
    "        print(f'{especificacao[i]}  -  {qtds_item[i]} und  -  R${valor_total_item[i]:.2f}')\n",
    "    elif item == 101:\n",
    "        valor_total_un = qtds_item[i] * valor_unitario[i]\n",
    "        valor_total_item.append(valor_total_un)\n",
    "        print(f'{especificacao[i]}  -  {qtds_item[i]} und  -  R${valor_total_item[i]:.2f}')\n",
    "    elif item == 102:\n",
    "        valor_total_un = qtds_item[i] * valor_unitario[i]\n",
    "        valor_total_item.append(valor_total_un)\n",
    "        print(f'{especificacao[i]}  -  {qtds_item[i]} und -  R${valor_total_item[i]:.2f}')\n",
    "    elif item == 103:\n",
    "        valor_total_un = qtds_item[i] * valor_unitario[i]\n",
    "        valor_total_item.append(valor_total_un)\n",
    "        print(f'{especificacao[i]}  -  {qtds_item[i]} und -  R${valor_total_item[i]:.2f}')\n",
    "    elif item == 104:\n",
    "        valor_total_un = qtds_item[i] * valor_unitario[i]\n",
    "        valor_total_item.append(valor_total_un)\n",
    "        print(f'{especificacao[i]}  -  {qtds_item[i]} und - R${valor_total_item[i]:.2f}')\n",
    "    elif item == 105:\n",
    "        valor_total_un = qtds_item[i] * valor_unitario[i]\n",
    "        valor_total_item.append(valor_total_un)\n",
    "        print(f'{especificacao[i]}  -  {qtds_item[i]} und -  R${valor_total_item[i]:.2f}')\n",
    "print(f'VALOR TOTAL = R${sum(valor_total_item):.2f}')              \n",
    "\n"
   ]
  },
  {
   "cell_type": "markdown",
   "id": "9877b8ba",
   "metadata": {
    "id": "9877b8ba"
   },
   "source": [
    "#### 14. Uma grande emissora de televisão quer fazer uma enquete entre os seus telespectadores para saber qual o melhor jogador após cada jogo. Para isto, faz-se necessário o desenvolvimento de um programa, que será utilizado pelas telefonistas, para a computação dos votos. Sua equipe foi contratada para desenvolver este programa, utilizando a linguagem de programação Python. Para computar cada voto, a telefonista digitará um número, entre 1 e 23, correspondente ao número da camisa do jogador. Um número de jogador igual zero, indica que a votação foi encerrada. Se um número inválido for digitado, o programa deve ignorá-lo, mostrando uma breve mensagem de aviso, e voltando a pedir outro número. Após o final da votação, o programa deverá exibir:\n",
    "<pre>a. O total de votos computados;\n",
    "b. Os números e respectivos votos de todos os jogadores que receberam votos;\n",
    "c. O percentual de votos de cada um destes jogadores;\n",
    "d. O número do jogador escolhido como o melhor jogador da partida, juntamente com o número de votos e o percentual de votos dados a ele.\n",
    "        Observe que os votos inválidos e o zero final não devem ser computados como votos. O resultado aparece ordenado pelo número do jogador. O programa deve fazer uso de arrays. O programa deverá executar o cálculo do percentual de cada jogador através de uma função. Esta função receberá dois parâmetros: o número de votos de um jogador e o total de votos. A função calculará o percentual e retornará o valor calculado. Abaixo segue uma tela de exemplo. O disposição das informações deve ser o mais próxima possível ao exemplo. Os dados são fictícios e podem mudar a cada execução do programa. Ao final, o programa deve ainda gravar os dados referentes ao resultado da votação em um arquivo texto no disco, obedecendo a mesma disposição apresentada na tela.</pre>\n",
    "```\n",
    "Enquete: Quem foi o melhor jogador?\n",
    "\n",
    "Número do jogador (0=fim): 9\n",
    "Número do jogador (0=fim): 10\n",
    "Número do jogador (0=fim): 9\n",
    "Número do jogador (0=fim): 10\n",
    "Número do jogador (0=fim): 11\n",
    "Número do jogador (0=fim): 10\n",
    "Número do jogador (0=fim): 50\n",
    "Informe um valor entre 1 e 23 ou 0 para sair!\n",
    "Número do jogador (0=fim): 9\n",
    "Número do jogador (0=fim): 9\n",
    "Número do jogador (0=fim): 0\n",
    "\n",
    "Resultado da votação:\n",
    "\n",
    "Foram computados 8 votos.\n",
    "\n",
    "Jogador Votos           %\n",
    "9               4               50,0%\n",
    "10              3               37,5%\n",
    "11              1               12,5%\n",
    "``` "
   ]
  },
  {
   "cell_type": "code",
   "execution_count": 114,
   "id": "79b82364",
   "metadata": {
    "ExecuteTime": {
     "end_time": "2024-02-11T16:30:47.359527Z",
     "start_time": "2024-02-11T16:30:33.112195Z"
    },
    "id": "79b82364"
   },
   "outputs": [
    {
     "name": "stdout",
     "output_type": "stream",
     "text": [
      "Enquete: Quem foi o melhor jogador?\n",
      "Número do jogador (0=fim):7\n",
      "Número do jogador (0=fim):7\n",
      "Número do jogador (0=fim):7\n",
      "Número do jogador (0=fim):7\n",
      "Número do jogador (0=fim):7\n",
      "Número do jogador (0=fim):7\n",
      "Número do jogador (0=fim):7\n",
      "Número do jogador (0=fim):8\n",
      "Número do jogador (0=fim):8\n",
      "Número do jogador (0=fim):8\n",
      "Número do jogador (0=fim):8\n",
      "Número do jogador (0=fim):8\n",
      "Número do jogador (0=fim):8\n",
      "Número do jogador (0=fim):8\n",
      "Número do jogador (0=fim):8\n",
      "Número do jogador (0=fim):9\n",
      "Número do jogador (0=fim):9\n",
      "Número do jogador (0=fim):9\n",
      "Número do jogador (0=fim):9\n",
      "Número do jogador (0=fim):9\n",
      "Número do jogador (0=fim):9\n",
      "Número do jogador (0=fim):9\n",
      "Número do jogador (0=fim):9\n",
      "Número do jogador (0=fim):9\n",
      "Número do jogador (0=fim):9\n",
      "Número do jogador (0=fim):9\n",
      "Número do jogador (0=fim):9\n",
      "Número do jogador (0=fim):9\n",
      "Número do jogador (0=fim):4\n",
      "Número do jogador (0=fim):4\n",
      "Número do jogador (0=fim):4\n",
      "Número do jogador (0=fim):4\n",
      "Número do jogador (0=fim):4\n",
      "Número do jogador (0=fim):5\n",
      "Número do jogador (0=fim):5\n",
      "Número do jogador (0=fim):5\n",
      "Número do jogador (0=fim):5\n",
      "Número do jogador (0=fim):2\n",
      "Número do jogador (0=fim):2\n",
      "Número do jogador (0=fim):2\n",
      "Número do jogador (0=fim):2\n",
      "Número do jogador (0=fim):6\n",
      "Número do jogador (0=fim):6\n",
      "Número do jogador (0=fim):6\n",
      "Número do jogador (0=fim):6\n",
      "Número do jogador (0=fim):\n",
      "Informe um valor entre 1 e 23 ou 0 para sair!\n",
      "Número do jogador (0=fim):3\n",
      "Número do jogador (0=fim):3\n",
      "Número do jogador (0=fim):3\n",
      "Número do jogador (0=fim):3\n",
      "Número do jogador (0=fim):3\n",
      "Número do jogador (0=fim):1\n",
      "Número do jogador (0=fim):1\n",
      "Número do jogador (0=fim):1\n",
      "Número do jogador (0=fim):0\n",
      "Foram computados 53 votos.\n",
      "Jogador   Votos     %\n",
      "1\t3\t5.66%.\n",
      "2\t4\t7.55%.\n",
      "3\t5\t9.43%.\n",
      "4\t5\t9.43%.\n",
      "5\t4\t7.55%.\n",
      "6\t4\t7.55%.\n",
      "7\t7\t13.21%.\n",
      "8\t8\t15.09%.\n",
      "9\t13\t24.53%.\n",
      "O melhor jogador foi o camisa 9 com 13 votos, representando 24.53% do total de votos.\n"
     ]
    }
   ],
   "source": [
    "votos = []\n",
    "print('Enquete: Quem foi o melhor jogador?')\n",
    "\n",
    "for i in range(1,24):\n",
    "    votos.append(0)\n",
    "\n",
    "while True:\n",
    "    try:\n",
    "        jogador = int(input('Número do jogador (0=fim):'))\n",
    "        if jogador == 0:\n",
    "            break\n",
    "        elif not 0 <= jogador <= 23:\n",
    "            print('Informe um valor entre 1 e 23 ou 0 para sair!')\n",
    "            continue\n",
    "        votos[jogador - 1] += 1 \n",
    "    except ValueError:\n",
    "        print('Informe um valor entre 1 e 23 ou 0 para sair!')\n",
    "        continue\n",
    "print(f'Foram computados {sum(votos)} votos.')  \n",
    "\n",
    "print('Jogador\\tVotos\\t%'.expandtabs(5))\n",
    "for i, voto in enumerate(votos):\n",
    "    if voto > 0:\n",
    "        print(f'{i+1}\\t{votos[i]}\\t{(votos[i]/sum(votos))*100:.2f}%.')\n",
    "\n",
    "melhor_jogador = max(votos)\n",
    "i = votos.index(melhor_jogador)\n",
    "porce = (melhor_jogador/sum(votos)*100)\n",
    "print(f'O melhor jogador foi o camisa {i+1} com {melhor_jogador} votos, representando {porce:.2f}% do total de votos.')   \n"
   ]
  },
  {
   "cell_type": "code",
   "execution_count": null,
   "id": "1f01c5d4",
   "metadata": {},
   "outputs": [],
   "source": []
  }
 ],
 "metadata": {
  "colab": {
   "collapsed_sections": [],
   "provenance": []
  },
  "kernelspec": {
   "display_name": "Python 3 (ipykernel)",
   "language": "python",
   "name": "python3"
  },
  "language_info": {
   "codemirror_mode": {
    "name": "ipython",
    "version": 3
   },
   "file_extension": ".py",
   "mimetype": "text/x-python",
   "name": "python",
   "nbconvert_exporter": "python",
   "pygments_lexer": "ipython3",
   "version": "3.9.18"
  }
 },
 "nbformat": 4,
 "nbformat_minor": 5
}
